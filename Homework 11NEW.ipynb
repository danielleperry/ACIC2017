{
 "cells": [
  {
   "cell_type": "code",
   "execution_count": 64,
   "metadata": {
    "collapsed": true
   },
   "outputs": [],
   "source": [
    "# Danielle, Kensaku, Alexander, Adrianna, Eddie\n",
    "from requests import Session\n",
    "import json\n",
    "session = Session()\n"
   ]
  },
  {
   "cell_type": "code",
   "execution_count": 65,
   "metadata": {},
   "outputs": [
    {
     "name": "stdout",
     "output_type": "stream",
     "text": [
      "[['37.8734016418', '-122.2649993896'], ['43.5279006958', '-80.2258987427'], ['-17.392057', '14.224052']]\n"
     ]
    }
   ],
   "source": [
    "#list to hold data\n",
    "latLngList = []\n",
    "\n",
    "#known working keys\n",
    "observations = ['2', '643', '10023']\n",
    "\n",
    "#loop to iterate through observation keys and pull data from given url\n",
    "#data is stored as a list in the latlong list\n",
    "for i in observations:\n",
    "    response = session.get('http://inaturalist.org/observations/' + str(i)+'.json')\n",
    "    jsonVar = json.loads(response.text)\n",
    "    latLngList.append([jsonVar[\"latitude\"], jsonVar[\"longitude\"]])\n",
    "\n",
    "print(latLngList)\n"
   ]
  },
  {
   "cell_type": "markdown",
   "metadata": {},
   "source": []
  }
 ],
 "metadata": {
  "kernelspec": {
   "display_name": "Python 3",
   "language": "python",
   "name": "python3"
  },
  "language_info": {
   "codemirror_mode": {
    "name": "ipython",
    "version": 3
   },
   "file_extension": ".py",
   "mimetype": "text/x-python",
   "name": "python",
   "nbconvert_exporter": "python",
   "pygments_lexer": "ipython3",
   "version": "3.6.2"
  }
 },
 "nbformat": 4,
 "nbformat_minor": 2
}
