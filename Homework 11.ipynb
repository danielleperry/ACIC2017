{
 "cells": [
  {
   "cell_type": "code",
   "execution_count": 49,
   "metadata": {},
   "outputs": [],
   "source": [
    "from requests import Session\n",
    "import json\n",
    "session = Session()\n",
    "# HEAD requests ask for *just* the headers, which is all you need to grab the\n",
    "# session cookie\n"
   ]
  },
  {
   "cell_type": "code",
   "execution_count": 63,
   "metadata": {},
   "outputs": [
    {
     "name": "stdout",
     "output_type": "stream",
     "text": [
      "[['37.8734016418', '37.8734016418'], ['43.5279006958', '43.5279006958'], ['-17.392057', '-17.392057']]\n"
     ]
    }
   ],
   "source": [
    "latLngList = []\n",
    "#Adrianna IS THE BESTIEST\n",
    "# way 1\n",
    "observations = ['2', '643', '10023']\n",
    "\n",
    "for i in observations:\n",
    "    response = session.get('http://inaturalist.org/observations/' + str(i)+'.json')\n",
    "    jsonVar = json.loads(response.text)\n",
    "    latLngList.append([jsonVar[\"latitude\"], jsonVar[\"latitude\"]])\n",
    "\n",
    "print(latLngList)\n"
   ]
  },
  {
   "cell_type": "markdown",
   "metadata": {},
   "source": []
  }
 ],
 "metadata": {
  "kernelspec": {
   "display_name": "Python 3",
   "language": "python",
   "name": "python3"
  },
  "language_info": {
   "codemirror_mode": {
    "name": "ipython",
    "version": 3
   },
   "file_extension": ".py",
   "mimetype": "text/x-python",
   "name": "python",
   "nbconvert_exporter": "python",
   "pygments_lexer": "ipython3",
   "version": "3.6.2"
  }
 },
 "nbformat": 4,
 "nbformat_minor": 2
}
